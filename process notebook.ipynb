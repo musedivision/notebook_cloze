{
 "cells": [
  {
   "cell_type": "code",
   "execution_count": 1,
   "metadata": {},
   "outputs": [],
   "source": [
    "import json\n",
    "import re\n",
    "from functools import reduce"
   ]
  },
  {
   "cell_type": "code",
   "execution_count": 2,
   "metadata": {},
   "outputs": [],
   "source": [
    "f = open('./data/cloze.ipynb', 'r')\n",
    "nb = f.read()\n",
    "nbd = json.loads(nb)"
   ]
  },
  {
   "cell_type": "code",
   "execution_count": 3,
   "metadata": {},
   "outputs": [],
   "source": [
    "cells = [ c for c in nbd['cells'] ]\n",
    "get_cells = lambda e: [c for c in cells if c['cell_type'] == e]"
   ]
  },
  {
   "cell_type": "code",
   "execution_count": 4,
   "metadata": {},
   "outputs": [],
   "source": [
    "c_code = get_cells('code')"
   ]
  },
  {
   "cell_type": "code",
   "execution_count": 5,
   "metadata": {},
   "outputs": [
    {
     "data": {
      "text/plain": [
       "['%reload_ext autoreload\\n', '%autoreload 2\\n', '%matplotlib inline']"
      ]
     },
     "execution_count": 5,
     "metadata": {},
     "output_type": "execute_result"
    }
   ],
   "source": [
    "txt = c_code[0]['source']; txt"
   ]
  },
  {
   "cell_type": "code",
   "execution_count": 91,
   "metadata": {},
   "outputs": [],
   "source": [
    "txt.append('cloze')"
   ]
  },
  {
   "cell_type": "code",
   "execution_count": 184,
   "metadata": {},
   "outputs": [
    {
     "data": {
      "text/plain": [
       "False"
      ]
     },
     "execution_count": 184,
     "metadata": {},
     "output_type": "execute_result"
    }
   ],
   "source": [
    "def isCloze(txtArr, cloze_marker=r'cloze'):\n",
    "    present = [re.search(cloze_marker,s) for s in txtArr]\n",
    "    match = None\n",
    "    if len(present):\n",
    "        match = reduce(lambda c, acc: c if c else acc, present)\n",
    "    \n",
    "    if match is not None:\n",
    "        return True\n",
    "    else:\n",
    "        return False\n",
    "\n",
    "isCloze(txt)"
   ]
  },
  {
   "cell_type": "code",
   "execution_count": 185,
   "metadata": {},
   "outputs": [],
   "source": [
    "has_cloze = ['before\\n', '# cloze {\\n', 'code', '# }\\n']\n",
    "no_cloze = ['before\\n', '# cl \\n', 'code', '# } c\\n']\n",
    "no_cloze_empty = ['before\\n', '# cl \\n', 'code', '# } c\\n', '']\n",
    "has_cloze_empty = ['before\\n', '# cl \\n', 'code', '# } c\\n', '']\n",
    "empty = []\n",
    "\n",
    "assert(isCloze(has_cloze))\n",
    "assert(isCloze(no_cloze) == False)\n",
    "assert(isCloze(no_cloze_empty) == False)\n",
    "assert(isCloze(has_cloze_empty) == False )\n",
    "assert(isCloze(empty) == False )"
   ]
  },
  {
   "cell_type": "code",
   "execution_count": 186,
   "metadata": {},
   "outputs": [
    {
     "data": {
      "text/plain": [
       "{'cell_type': 'code',\n",
       " 'execution_count': 43,\n",
       " 'metadata': {},\n",
       " 'outputs': [],\n",
       " 'source': ['class DeepNN(nn.Module):\\n',\n",
       "  '    ### cloze {\\n',\n",
       "  '    def __init__(self, layers):\\n',\n",
       "  '        super().__init__()\\n',\n",
       "  '        print(layers)\\n',\n",
       "  '        self.layers = {}\\n',\n",
       "  '        for i in range(len(layers) -1):\\n',\n",
       "  '            print(i, [layers[i], layers[i+1]])\\n',\n",
       "  '            self.layers[f\"lin_{i}\"] = nn.Linear(layers[i], layers[i+1])\\n',\n",
       "  '    def forward(self, xb):\\n',\n",
       "  '        ab = xb\\n',\n",
       "  '        for i in range(len(layers) -1):\\n',\n",
       "  '            ab = F.relu(self.layers[f\"lin_{i}\"](ab))\\n',\n",
       "  '        return ab\\n',\n",
       "  '    ### } cloze ']}"
      ]
     },
     "execution_count": 186,
     "metadata": {},
     "output_type": "execute_result"
    }
   ],
   "source": [
    "c_code[14]"
   ]
  },
  {
   "cell_type": "code",
   "execution_count": 187,
   "metadata": {},
   "outputs": [
    {
     "data": {
      "text/plain": [
       "True"
      ]
     },
     "execution_count": 187,
     "metadata": {},
     "output_type": "execute_result"
    }
   ],
   "source": [
    "isCloze(c_code[14]['source'])"
   ]
  },
  {
   "cell_type": "code",
   "execution_count": 225,
   "metadata": {},
   "outputs": [],
   "source": [
    "start_cloze_re = r'# cloze {'\n",
    "end_cloze_re = r'# }'\n",
    "\n",
    "# should return cloze code lines and the mutated source array\n",
    "\n",
    "def extractCloze(cell_source):\n",
    "    start_i = None\n",
    "    end_i = None\n",
    "    for i, x in enumerate(cell_source):\n",
    "        if isCloze([x], start_cloze_re):\n",
    "            start_i = i \n",
    "        \n",
    "        if start_i is not None and isCloze([x], end_cloze_re):\n",
    "            end_i = i\n",
    "            \n",
    "    cloze_block = cell_source[start_i+1:end_i]\n",
    "    sliced_source = cell_source[:start_i+1] + cell_source[end_i:]\n",
    "    \n",
    "    return cloze_block, sliced_source"
   ]
  },
  {
   "cell_type": "code",
   "execution_count": 226,
   "metadata": {},
   "outputs": [
    {
     "name": "stdout",
     "output_type": "stream",
     "text": [
      "['code1\\n', 'code2\\n', 'code3\\n', 'code4\\n', 'code5\\n', 'code6\\n', 'code7\\n', 'code8\\n', 'code9\\n', 'code10\\n']\n",
      "['before\\n', '# cloze {\\n', '# }\\n']\n"
     ]
    }
   ],
   "source": [
    "code_lines = [ f'code{i+1}\\n' for i in range(10) ]\n",
    "has_cloze = ['before\\n', '# cloze {\\n'] + code_lines  + ['# }\\n']\n",
    "deleted_cloze = ['before\\n', '# cloze {\\n'] + ['# }\\n']\n",
    "\n",
    "print(extractCloze(has_cloze)[0])\n",
    "assert(extractCloze(has_cloze)[0] == code_lines)\n",
    "\n",
    "print(extractCloze(has_cloze)[1])\n",
    "assert(extractCloze(deleted_cloze)[1] == deleted_cloze)"
   ]
  },
  {
   "cell_type": "code",
   "execution_count": 227,
   "metadata": {},
   "outputs": [
    {
     "data": {
      "text/plain": [
       "(['    def __init__(self, layers):\\n',\n",
       "  '        super().__init__()\\n',\n",
       "  '        print(layers)\\n',\n",
       "  '        self.layers = {}\\n',\n",
       "  '        for i in range(len(layers) -1):\\n',\n",
       "  '            print(i, [layers[i], layers[i+1]])\\n',\n",
       "  '            self.layers[f\"lin_{i}\"] = nn.Linear(layers[i], layers[i+1])\\n',\n",
       "  '    def forward(self, xb):\\n',\n",
       "  '        ab = xb\\n',\n",
       "  '        for i in range(len(layers) -1):\\n',\n",
       "  '            ab = F.relu(self.layers[f\"lin_{i}\"](ab))\\n',\n",
       "  '        return ab\\n'],\n",
       " ['class DeepNN(nn.Module):\\n', '    ### cloze {\\n', '    ### } cloze '])"
      ]
     },
     "execution_count": 227,
     "metadata": {},
     "output_type": "execute_result"
    }
   ],
   "source": [
    "extractCloze(c_code[14]['source'])"
   ]
  },
  {
   "cell_type": "markdown",
   "metadata": {},
   "source": [
    "## all together now"
   ]
  },
  {
   "cell_type": "code",
   "execution_count": 244,
   "metadata": {},
   "outputs": [],
   "source": [
    "get_cells = lambda cells, e: [c for c in cells if c['cell_type'] == e]\n",
    "\n",
    "def readNotebook(path):\n",
    "    # read file\n",
    "    f = open(path, 'r')\n",
    "    nb = f.read()\n",
    "    nbd = json.loads(nb)\n",
    "    \n",
    "    #extract cloze\n",
    "    cells = [ c for c in nbd['cells'] ]\n",
    "    c_code = get_cells(cells, 'code')\n",
    "    \n",
    "    \n",
    "    cloze_cells = [ c for c in c_code if isCloze(c['source'])] \n",
    "    cloze_blocks = [ extractCloze(c['source']) for c in cloze_cells ]\n",
    "    \n",
    "    return cloze_blocks, {}"
   ]
  },
  {
   "cell_type": "code",
   "execution_count": 245,
   "metadata": {},
   "outputs": [
    {
     "data": {
      "text/plain": [
       "([(['    def __init__(self, layers):\\n',\n",
       "    '        super().__init__()\\n',\n",
       "    '        print(layers)\\n',\n",
       "    '        self.layers = {}\\n',\n",
       "    '        for i in range(len(layers) -1):\\n',\n",
       "    '            print(i, [layers[i], layers[i+1]])\\n',\n",
       "    '            self.layers[f\"lin_{i}\"] = nn.Linear(layers[i], layers[i+1])\\n',\n",
       "    '    def forward(self, xb):\\n',\n",
       "    '        ab = xb\\n',\n",
       "    '        for i in range(len(layers) -1):\\n',\n",
       "    '            ab = F.relu(self.layers[f\"lin_{i}\"](ab))\\n',\n",
       "    '        return ab\\n'],\n",
       "   ['class DeepNN(nn.Module):\\n', '    ### cloze {\\n', '    ### } cloze '])],\n",
       " {})"
      ]
     },
     "execution_count": 245,
     "metadata": {},
     "output_type": "execute_result"
    }
   ],
   "source": [
    "readNotebook('./data/cloze.ipynb')"
   ]
  },
  {
   "cell_type": "code",
   "execution_count": 248,
   "metadata": {},
   "outputs": [
    {
     "ename": "AssertionError",
     "evalue": "",
     "output_type": "error",
     "traceback": [
      "\u001b[0;31m---------------------------------------------------------------------------\u001b[0m",
      "\u001b[0;31mAssertionError\u001b[0m                            Traceback (most recent call last)",
      "\u001b[0;32m<ipython-input-248-87f26b2130df>\u001b[0m in \u001b[0;36m<module>\u001b[0;34m\u001b[0m\n\u001b[1;32m     14\u001b[0m \u001b[0manswer\u001b[0m\u001b[0;34m,\u001b[0m \u001b[0mextract_nb\u001b[0m \u001b[0;34m=\u001b[0m \u001b[0mreadNotebook\u001b[0m\u001b[0;34m(\u001b[0m\u001b[0;34m'./data/cloze.ipynb'\u001b[0m\u001b[0;34m)\u001b[0m\u001b[0;34m\u001b[0m\u001b[0m\n\u001b[1;32m     15\u001b[0m \u001b[0;34m\u001b[0m\u001b[0m\n\u001b[0;32m---> 16\u001b[0;31m \u001b[0;32massert\u001b[0m\u001b[0;34m(\u001b[0m\u001b[0manswer\u001b[0m \u001b[0;34m==\u001b[0m \u001b[0mexpected_answer\u001b[0m\u001b[0;34m)\u001b[0m\u001b[0;34m\u001b[0m\u001b[0m\n\u001b[0m\u001b[1;32m     17\u001b[0m \u001b[0;32massert\u001b[0m\u001b[0;34m(\u001b[0m\u001b[0mextract_nb\u001b[0m \u001b[0;34m==\u001b[0m \u001b[0mexpected_extract_nb\u001b[0m\u001b[0;34m)\u001b[0m\u001b[0;34m\u001b[0m\u001b[0m\n",
      "\u001b[0;31mAssertionError\u001b[0m: "
     ]
    }
   ],
   "source": [
    "# full e2e test!\n",
    "# only one cloze in 1 cell of this notebook\n",
    "\n",
    "def get_json(fpath):\n",
    "    f = open(fpath, 'r')\n",
    "    file = json.loads(f.read())\n",
    "    f.close()\n",
    "    return file\n",
    "\n",
    "# some test data\n",
    "expected_answer = get_json('./data/cloze_answer.json')['answer']\n",
    "expected_extract_nb = get_json('./data/cloze_e.ipynb')\n",
    "\n",
    "answer, extract_nb = readNotebook('./data/cloze.ipynb')\n",
    "\n",
    "assert(answer == expected_answer)\n",
    "assert(extract_nb == expected_extract_nb)"
   ]
  },
  {
   "cell_type": "code",
   "execution_count": null,
   "metadata": {},
   "outputs": [],
   "source": []
  }
 ],
 "metadata": {
  "kernelspec": {
   "display_name": "Python 3",
   "language": "python",
   "name": "python3"
  },
  "language_info": {
   "codemirror_mode": {
    "name": "ipython",
    "version": 3
   },
   "file_extension": ".py",
   "mimetype": "text/x-python",
   "name": "python",
   "nbconvert_exporter": "python",
   "pygments_lexer": "ipython3",
   "version": "3.6.6"
  }
 },
 "nbformat": 4,
 "nbformat_minor": 2
}
