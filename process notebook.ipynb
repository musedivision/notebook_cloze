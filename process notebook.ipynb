{
 "cells": [
  {
   "cell_type": "code",
   "execution_count": 1,
   "metadata": {},
   "outputs": [],
   "source": [
    "import json\n",
    "import re\n",
    "from functools import reduce\n",
    "from copy import deepcopy"
   ]
  },
  {
   "cell_type": "code",
   "execution_count": 2,
   "metadata": {},
   "outputs": [],
   "source": [
    "f = open('./data/cloze.ipynb', 'r')\n",
    "nb = f.read()\n",
    "nbd = json.loads(nb)"
   ]
  },
  {
   "cell_type": "code",
   "execution_count": 3,
   "metadata": {},
   "outputs": [],
   "source": [
    "cells = [ c for c in nbd['cells'] ]\n",
    "get_cells = lambda e: [c for c in cells if c['cell_type'] == e]"
   ]
  },
  {
   "cell_type": "code",
   "execution_count": 4,
   "metadata": {},
   "outputs": [],
   "source": [
    "c_code = get_cells('code')"
   ]
  },
  {
   "cell_type": "code",
   "execution_count": 5,
   "metadata": {},
   "outputs": [
    {
     "data": {
      "text/plain": [
       "['%reload_ext autoreload\\n', '%autoreload 2\\n', '%matplotlib inline']"
      ]
     },
     "execution_count": 5,
     "metadata": {},
     "output_type": "execute_result"
    }
   ],
   "source": [
    "txt = c_code[0]['source']; txt"
   ]
  },
  {
   "cell_type": "code",
   "execution_count": 6,
   "metadata": {},
   "outputs": [],
   "source": [
    "txt.append('cloze')"
   ]
  },
  {
   "cell_type": "code",
   "execution_count": 7,
   "metadata": {},
   "outputs": [
    {
     "data": {
      "text/plain": [
       "True"
      ]
     },
     "execution_count": 7,
     "metadata": {},
     "output_type": "execute_result"
    }
   ],
   "source": [
    "def isCloze(txtArr, cloze_marker=r'cloze', checkEmpty=False):\n",
    "    present = [re.search(cloze_marker,s) for s in txtArr]\n",
    "    match = None\n",
    "    if len(present):\n",
    "        match = reduce(lambda c, acc: c if c else acc, present)\n",
    "    \n",
    "    if match is not None:\n",
    "        return True\n",
    "    else:\n",
    "        return False\n",
    "\n",
    "isCloze(txt)"
   ]
  },
  {
   "cell_type": "code",
   "execution_count": 8,
   "metadata": {},
   "outputs": [],
   "source": [
    "has_cloze = ['before\\n', '# cloze {\\n', 'code', '# }\\n']\n",
    "no_cloze = ['before\\n', '# cl \\n', 'code', '# } c\\n']\n",
    "no_cloze_empty = ['before\\n', '# cl \\n', 'code', '# } c\\n', '']\n",
    "has_cloze_empty = ['before\\n', '# cl \\n', 'code', '# } c\\n', '']\n",
    "empty = []\n",
    "\n",
    "assert(isCloze(has_cloze) == True)\n",
    "assert(isCloze(no_cloze) == False)\n",
    "assert(isCloze(no_cloze_empty) == False)\n",
    "assert(isCloze(has_cloze_empty) == False )\n",
    "assert(isCloze(empty) == False )"
   ]
  },
  {
   "cell_type": "code",
   "execution_count": 9,
   "metadata": {},
   "outputs": [
    {
     "data": {
      "text/plain": [
       "{'cell_type': 'code',\n",
       " 'execution_count': 43,\n",
       " 'metadata': {},\n",
       " 'outputs': [],\n",
       " 'source': ['class DeepNN(nn.Module):\\n',\n",
       "  '    ### cloze {\\n',\n",
       "  '    def __init__(self, layers):\\n',\n",
       "  '        super().__init__()\\n',\n",
       "  '        print(layers)\\n',\n",
       "  '        self.layers = {}\\n',\n",
       "  '        for i in range(len(layers) -1):\\n',\n",
       "  '            print(i, [layers[i], layers[i+1]])\\n',\n",
       "  '            self.layers[f\"lin_{i}\"] = nn.Linear(layers[i], layers[i+1])\\n',\n",
       "  '    def forward(self, xb):\\n',\n",
       "  '        ab = xb\\n',\n",
       "  '        for i in range(len(layers) -1):\\n',\n",
       "  '            ab = F.relu(self.layers[f\"lin_{i}\"](ab))\\n',\n",
       "  '        return ab\\n',\n",
       "  '    ### } cloze ']}"
      ]
     },
     "execution_count": 9,
     "metadata": {},
     "output_type": "execute_result"
    }
   ],
   "source": [
    "c_code[14]"
   ]
  },
  {
   "cell_type": "code",
   "execution_count": 10,
   "metadata": {},
   "outputs": [
    {
     "data": {
      "text/plain": [
       "True"
      ]
     },
     "execution_count": 10,
     "metadata": {},
     "output_type": "execute_result"
    }
   ],
   "source": [
    "isCloze(c_code[14]['source'])"
   ]
  },
  {
   "cell_type": "code",
   "execution_count": 11,
   "metadata": {},
   "outputs": [],
   "source": [
    "start_cloze_re = r'# cloze {'\n",
    "end_cloze_re = r'# }'\n",
    "\n",
    "# should return cloze code lines and the mutated source array\n",
    "\n",
    "def extractCloze(cell_source):\n",
    "    start_i = None\n",
    "    end_i = None\n",
    "    output = []\n",
    "    for i, x in enumerate(cell_source):\n",
    "        \n",
    "        if isCloze([x], start_cloze_re):\n",
    "            start_i = i \n",
    "        \n",
    "        if start_i is not None and isCloze([x], end_cloze_re):\n",
    "            end_i = i\n",
    "            \n",
    "            if not end_i - start_i == 1:\n",
    "#                 print(\"EXTRACTING...\")\n",
    "                cloze_block = cell_source[start_i+1:end_i] # content of cloze tag\n",
    "                sliced_source = cell_source[:start_i+1] + cell_source[end_i:] # includes cloze tag\n",
    "\n",
    "                output.append((cloze_block, sliced_source))\n",
    "\n",
    "            # reset detection\n",
    "            start_i = None\n",
    "            end_i = None\n",
    "             \n",
    "    \n",
    "    return output"
   ]
  },
  {
   "cell_type": "code",
   "execution_count": 12,
   "metadata": {},
   "outputs": [
    {
     "name": "stdout",
     "output_type": "stream",
     "text": [
      "(['code1\\n', 'code2\\n', 'code3\\n', 'code4\\n', 'code5\\n', 'code6\\n', 'code7\\n', 'code8\\n', 'code9\\n', 'code10\\n'], ['before\\n', '# cloze {\\n', '# }\\n'])\n",
      "[]\n"
     ]
    }
   ],
   "source": [
    "code_lines = [ f'code{i+1}\\n' for i in range(10) ]\n",
    "has_cloze = ['before\\n', '# cloze {\\n'] + code_lines  + ['# }\\n']\n",
    "deleted_cloze = ['before\\n', '# cloze {\\n'] + ['# }\\n']\n",
    "\n",
    "print(extractCloze(has_cloze)[0])\n",
    "assert(extractCloze(has_cloze)[0][0] == code_lines)\n",
    "\n",
    "print(extractCloze(deleted_cloze))\n",
    "assert(extractCloze(deleted_cloze) == []) # assume you return nothing"
   ]
  },
  {
   "cell_type": "code",
   "execution_count": 13,
   "metadata": {},
   "outputs": [
    {
     "name": "stdout",
     "output_type": "stream",
     "text": [
      "0\n",
      "['before\\n', '# cloze {\\n', '# }\\n', '# cloze {\\n', 'code1_2\\n', 'code2_2\\n', '# }\\n', 'random end\\n']\n",
      "1\n",
      "['before\\n', '# cloze {\\n', 'code1_1\\n', 'code2_1\\n', '# }\\n', '# cloze {\\n', '# }\\n', 'random end\\n']\n"
     ]
    }
   ],
   "source": [
    "# if there are 2 clozes blocks within 1 cell\n",
    "# num of cloze in one cell\n",
    "num = 2\n",
    "\n",
    "code_lines = lambda y: [ f'code{i+1}_{y}\\n' for i in range(2) ]\n",
    "cloze_list = [ ['# cloze {\\n', *code_lines(i+1), '# }\\n'] for i in range(num) ]\n",
    "cloze_list_flat = [l for sublist in cloze_list for l in sublist]\n",
    "has_multi_cloze = ['before\\n', *cloze_list_flat, 'random end\\n']\n",
    "\n",
    "\n",
    "# print(extractCloze(has_multi_cloze)[1])\n",
    "processed = extractCloze(has_multi_cloze)\n",
    "for i in range(num):\n",
    "    print(i)\n",
    "    clz, cln_src = processed[i]\n",
    "    assert(clz == code_lines(i+1))\n",
    "    print(cln_src)"
   ]
  },
  {
   "cell_type": "code",
   "execution_count": 14,
   "metadata": {},
   "outputs": [
    {
     "data": {
      "text/plain": [
       "[(['    def __init__(self, layers):\\n',\n",
       "   '        super().__init__()\\n',\n",
       "   '        print(layers)\\n',\n",
       "   '        self.layers = {}\\n',\n",
       "   '        for i in range(len(layers) -1):\\n',\n",
       "   '            print(i, [layers[i], layers[i+1]])\\n',\n",
       "   '            self.layers[f\"lin_{i}\"] = nn.Linear(layers[i], layers[i+1])\\n',\n",
       "   '    def forward(self, xb):\\n',\n",
       "   '        ab = xb\\n',\n",
       "   '        for i in range(len(layers) -1):\\n',\n",
       "   '            ab = F.relu(self.layers[f\"lin_{i}\"](ab))\\n',\n",
       "   '        return ab\\n'],\n",
       "  ['class DeepNN(nn.Module):\\n', '    ### cloze {\\n', '    ### } cloze '])]"
      ]
     },
     "execution_count": 14,
     "metadata": {},
     "output_type": "execute_result"
    }
   ],
   "source": [
    "extractCloze(c_code[14]['source'])"
   ]
  },
  {
   "cell_type": "markdown",
   "metadata": {},
   "source": [
    "## all together now"
   ]
  },
  {
   "cell_type": "code",
   "execution_count": 15,
   "metadata": {},
   "outputs": [],
   "source": [
    "get_cells = lambda cells, e: [c for c in cells if c['cell_type'] == e]\n",
    "\n",
    "def readNotebook(path):\n",
    "    # read file\n",
    "    f = open(path, 'r')\n",
    "    nb = f.read()\n",
    "    nbd = json.loads(nb)\n",
    "    \n",
    "    \n",
    "    cloze_blocks = []\n",
    "    \n",
    "    for i,c in enumerate(nbd['cells']):\n",
    "        # go inside 1 cell\n",
    "        # extract all cloze blocks\n",
    "        if c['cell_type'] == 'code' and isCloze(c['source']):\n",
    "            processed = extractCloze(c['source'])\n",
    "            \n",
    "            # add multiple clozes inside one cell\n",
    "            for data in processed:\n",
    "                clz_src, cln_src = data\n",
    "                cloze_blocks.append({\"i\":i, \"clz\":clz_src, \"cln_src\":cln_src})\n",
    "            \n",
    "    output = []\n",
    "    \n",
    "    print('cloze_blocks: ', len(cloze_blocks))\n",
    "    \n",
    "    for clz in cloze_blocks:\n",
    "        new_code_cells = deepcopy([c for c in nbd['cells']])\n",
    "        new_code_cells[clz['i']]['source']=clz[\"cln_src\"]\n",
    "        new_nb = deepcopy({k:nbd[k] for k in nbd})\n",
    "        new_nb['cells'] = new_code_cells\n",
    "        \n",
    "        output.append((clz['clz'], new_nb))\n",
    "    \n",
    "\n",
    "    return output"
   ]
  },
  {
   "cell_type": "code",
   "execution_count": 16,
   "metadata": {},
   "outputs": [
    {
     "name": "stdout",
     "output_type": "stream",
     "text": [
      "cloze_blocks:  1\n"
     ]
    }
   ],
   "source": [
    "x = readNotebook('./data/cloze.ipynb')"
   ]
  },
  {
   "cell_type": "code",
   "execution_count": 17,
   "metadata": {},
   "outputs": [
    {
     "name": "stdout",
     "output_type": "stream",
     "text": [
      "cloze_blocks:  1\n",
      "['    def __init__(self, layers):\\n', '        super().__init__()\\n', '        print(layers)\\n', '        self.layers = {}\\n', '        for i in range(len(layers) -1):\\n', '            print(i, [layers[i], layers[i+1]])\\n', '            self.layers[f\"lin_{i}\"] = nn.Linear(layers[i], layers[i+1])\\n', '    def forward(self, xb):\\n', '        ab = xb\\n', '        for i in range(len(layers) -1):\\n', '            ab = F.relu(self.layers[f\"lin_{i}\"](ab))\\n', '        return ab\\n']\n"
     ]
    }
   ],
   "source": [
    "# full e2e test!\n",
    "# only one cloze in 1 cell of this notebook\n",
    "\n",
    "def get_json(fpath):\n",
    "    f = open(fpath, 'r')\n",
    "    file = json.loads(f.read())\n",
    "    f.close()\n",
    "    return file\n",
    "\n",
    "# some test data\n",
    "expected_answer = get_json('./data/cloze_answer.json')['answer']\n",
    "expected_extract_nb = get_json('./data/cloze_e.ipynb')\n",
    "\n",
    "answer, extract_nb = readNotebook('./data/cloze.ipynb')[0]\n",
    "\n",
    "\n",
    "print(answer)\n",
    "assert(answer == expected_answer)\n",
    "assert(extract_nb == expected_extract_nb)"
   ]
  },
  {
   "cell_type": "markdown",
   "metadata": {},
   "source": [
    "## multi cloze in single notebook!"
   ]
  },
  {
   "cell_type": "code",
   "execution_count": 19,
   "metadata": {},
   "outputs": [
    {
     "name": "stdout",
     "output_type": "stream",
     "text": [
      "cloze_blocks:  3\n",
      "0\n",
      "1\n",
      "2\n"
     ]
    }
   ],
   "source": [
    "idxs = [i for i in range(3)]\n",
    "\n",
    "expected_answers = get_json('./data/multi_answers.json')['answers']\n",
    "expected_extract_nb = [ get_json(f\"./data/multi_cloze-{i+1}.ipynb\") for i in idxs]\n",
    "\n",
    "\n",
    "\n",
    "output = readNotebook('./data/multi_cloze.ipynb')\n",
    "\n",
    "\n",
    "for i in idxs:\n",
    "    answer, extract_nb = output[i]\n",
    "    print(i)\n",
    "    \n",
    "    # extracted answers are correct\n",
    "    assert(answer == expected_answers[i])\n",
    "    \n",
    "    # extracted new nbs are correct\n",
    "    for j,line in enumerate(expected_extract_nb[i]['cells'][17]['source']):\n",
    "\n",
    "        if not extract_nb['cells'][17]['source'][j] == line:\n",
    "            print(extract_nb['cells'][17]['source'][j],  l)\n",
    "            raise Exception(\"line not equal\")\n",
    "        \n",
    "    assert(extract_nb == expected_extract_nb[i])\n",
    "    \n",
    "\n"
   ]
  },
  {
   "cell_type": "code",
   "execution_count": null,
   "metadata": {},
   "outputs": [],
   "source": []
  }
 ],
 "metadata": {
  "kernelspec": {
   "display_name": "Python 3",
   "language": "python",
   "name": "python3"
  },
  "language_info": {
   "codemirror_mode": {
    "name": "ipython",
    "version": 3
   },
   "file_extension": ".py",
   "mimetype": "text/x-python",
   "name": "python",
   "nbconvert_exporter": "python",
   "pygments_lexer": "ipython3",
   "version": "3.6.6"
  }
 },
 "nbformat": 4,
 "nbformat_minor": 2
}
